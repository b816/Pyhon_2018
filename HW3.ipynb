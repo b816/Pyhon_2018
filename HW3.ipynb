{
 "cells": [
  {
   "cell_type": "markdown",
   "metadata": {},
   "source": [
    "### 1. L=[1,2,3,4,5]일 때 다음 각 문장을 수행한 후의 결과를 보고 납득할 만한 이유를 설명하시오."
   ]
  },
  {
   "cell_type": "code",
   "execution_count": 31,
   "metadata": {},
   "outputs": [],
   "source": [
    "L=[1,2,3,4,5]"
   ]
  },
  {
   "cell_type": "code",
   "execution_count": 32,
   "metadata": {},
   "outputs": [
    {
     "name": "stdout",
     "output_type": "stream",
     "text": [
      "[1, 100, 4, 5]\n"
     ]
    }
   ],
   "source": [
    "L[1:3]=[100]\n",
    "print(L)"
   ]
  },
  {
   "cell_type": "markdown",
   "metadata": {},
   "source": [
    "리스트의 인덱스1부터 2까지 자리에 100을 대신하여 넣었다. 그렇기 때문에 위와 같이 출력되었다."
   ]
  },
  {
   "cell_type": "code",
   "execution_count": 33,
   "metadata": {
    "scrolled": true
   },
   "outputs": [
    {
     "name": "stdout",
     "output_type": "stream",
     "text": [
      "[1, 100, 5]\n"
     ]
    }
   ],
   "source": [
    "L[1:3]=[(100)]\n",
    "print(L)"
   ]
  },
  {
   "cell_type": "markdown",
   "metadata": {},
   "source": [
    "(100)의 타입을 반환해보면 int가 출력된다. 그러나 [(100)]이므로 리스트 타입이다. 해당하는 인덱스부분에서 리스트 원소에 대한 슬라이스 치환이 이루어졌다고 볼 수 있다. "
   ]
  },
  {
   "cell_type": "code",
   "execution_count": 34,
   "metadata": {},
   "outputs": [
    {
     "ename": "TypeError",
     "evalue": "can only assign an iterable",
     "output_type": "error",
     "traceback": [
      "\u001b[1;31m---------------------------------------------------------------------------\u001b[0m",
      "\u001b[1;31mTypeError\u001b[0m                                 Traceback (most recent call last)",
      "\u001b[1;32m<ipython-input-34-89db40f5930d>\u001b[0m in \u001b[0;36m<module>\u001b[1;34m()\u001b[0m\n\u001b[1;32m----> 1\u001b[1;33m \u001b[0mL\u001b[0m\u001b[1;33m[\u001b[0m\u001b[1;36m1\u001b[0m\u001b[1;33m:\u001b[0m\u001b[1;36m3\u001b[0m\u001b[1;33m]\u001b[0m\u001b[1;33m=\u001b[0m\u001b[1;36m100\u001b[0m\u001b[1;33m\u001b[0m\u001b[0m\n\u001b[0m\u001b[0;32m      2\u001b[0m \u001b[0mprint\u001b[0m\u001b[1;33m(\u001b[0m\u001b[0mL\u001b[0m\u001b[1;33m)\u001b[0m\u001b[1;33m\u001b[0m\u001b[0m\n",
      "\u001b[1;31mTypeError\u001b[0m: can only assign an iterable"
     ]
    }
   ],
   "source": [
    "L[1:3]=100\n",
    "print(L)"
   ]
  },
  {
   "cell_type": "markdown",
   "metadata": {},
   "source": [
    "인덱싱을 통해 값을 변경할 때는 그 위치를 치환해야하기 때문에 같은 리스트형이 와야한다."
   ]
  },
  {
   "cell_type": "code",
   "execution_count": 35,
   "metadata": {},
   "outputs": [
    {
     "ename": "TypeError",
     "evalue": "can only assign an iterable",
     "output_type": "error",
     "traceback": [
      "\u001b[1;31m---------------------------------------------------------------------------\u001b[0m",
      "\u001b[1;31mTypeError\u001b[0m                                 Traceback (most recent call last)",
      "\u001b[1;32m<ipython-input-35-2c706ad9c00d>\u001b[0m in \u001b[0;36m<module>\u001b[1;34m()\u001b[0m\n\u001b[1;32m----> 1\u001b[1;33m \u001b[0mL\u001b[0m\u001b[1;33m[\u001b[0m\u001b[1;36m1\u001b[0m\u001b[1;33m:\u001b[0m\u001b[1;36m3\u001b[0m\u001b[1;33m]\u001b[0m\u001b[1;33m=\u001b[0m\u001b[1;33m(\u001b[0m\u001b[1;36m100\u001b[0m\u001b[1;33m)\u001b[0m\u001b[1;33m\u001b[0m\u001b[0m\n\u001b[0m\u001b[0;32m      2\u001b[0m \u001b[1;33m\u001b[0m\u001b[0m\n\u001b[0;32m      3\u001b[0m \u001b[0mprint\u001b[0m\u001b[1;33m(\u001b[0m\u001b[0mL\u001b[0m\u001b[1;33m)\u001b[0m\u001b[1;33m\u001b[0m\u001b[0m\n",
      "\u001b[1;31mTypeError\u001b[0m: can only assign an iterable"
     ]
    }
   ],
   "source": [
    "L[1:3]=(100)\n",
    "\n",
    "print(L)"
   ]
  },
  {
   "cell_type": "markdown",
   "metadata": {},
   "source": [
    "list는 반복가능한 값을 지정해야한다. (100)은 int형이기 때문에 지정할 수 없다."
   ]
  },
  {
   "cell_type": "code",
   "execution_count": 36,
   "metadata": {},
   "outputs": [
    {
     "name": "stdout",
     "output_type": "stream",
     "text": [
      "[1, 100, 101, 102]\n"
     ]
    }
   ],
   "source": [
    "L[1:3]=(100,101,102)\n",
    "print(L)"
   ]
  },
  {
   "cell_type": "markdown",
   "metadata": {},
   "source": [
    "튜플을 통해 반복가능한 값을 지정해주었다. 슬라이스 치환을 통해 (100,101,102) 값을 지정해주었다."
   ]
  },
  {
   "cell_type": "code",
   "execution_count": 37,
   "metadata": {},
   "outputs": [
    {
     "name": "stdout",
     "output_type": "stream",
     "text": [
      "[1, 100, 101, 102, 102]\n"
     ]
    }
   ],
   "source": [
    "L[1:3]=[100,101,102]\n",
    "print(L)"
   ]
  },
  {
   "cell_type": "markdown",
   "metadata": {},
   "source": [
    "인덱스 1에서 2에 해당하는 부분과 [100,101,102]를 치환하여 [1,100,101,102,102]가 완성되었다."
   ]
  },
  {
   "cell_type": "code",
   "execution_count": 38,
   "metadata": {},
   "outputs": [
    {
     "name": "stdout",
     "output_type": "stream",
     "text": [
      "[1, (100, 101, 102), 102, 102]\n"
     ]
    }
   ],
   "source": [
    "L[1:3]=[(100,101,102)]\n",
    "print(L)"
   ]
  },
  {
   "cell_type": "markdown",
   "metadata": {},
   "source": [
    "튜플 형태가 원소로 들어가 있는 리스트를 슬라이스 치환하였다. "
   ]
  },
  {
   "cell_type": "code",
   "execution_count": 39,
   "metadata": {},
   "outputs": [
    {
     "name": "stdout",
     "output_type": "stream",
     "text": [
      "[1, [100, 101, 102], 102]\n"
     ]
    }
   ],
   "source": [
    "L[1:3] = [[100,101,102]]\n",
    "print(L)"
   ]
  },
  {
   "cell_type": "markdown",
   "metadata": {},
   "source": [
    "list형 [100,101,102] 원소를 가진 리스트를 인덱스1부터2까지의 자리에 치환하였다."
   ]
  },
  {
   "cell_type": "markdown",
   "metadata": {},
   "source": [
    "### 2. 문자열 S = 'Hello World and Python'에 대해 다음 요구사항에 대한 Python 코드를 제시하시오."
   ]
  },
  {
   "cell_type": "code",
   "execution_count": 47,
   "metadata": {},
   "outputs": [],
   "source": [
    "s='Hello World and Python'"
   ]
  },
  {
   "cell_type": "markdown",
   "metadata": {},
   "source": [
    "#### 1) 단어의 순서가 역순으로 되어진  문자열을 만들고,\n",
    "#### 2) 1)의 결과 문자열에 대해 메소드 split과 join을 이용하여 공백을 모두 없앤 문자열 'PythonandWorldHello'을 만드시오."
   ]
  },
  {
   "cell_type": "code",
   "execution_count": 64,
   "metadata": {},
   "outputs": [
    {
     "name": "stdout",
     "output_type": "stream",
     "text": [
      "PythonandWorldHello\n"
     ]
    }
   ],
   "source": [
    "ss=s.split(' ')\n",
    "k=ss.reverse()\n",
    "s=' '.join(ss)\n",
    "print(s)"
   ]
  },
  {
   "cell_type": "markdown",
   "metadata": {},
   "source": [
    "문자열을 공백 한 칸으로 쪼개어 ss에 list형태로 지정해준다. 리스트의 메소드인 reverse를 사용하여준다. 이때, reverse 메소드는 반환값이 없다(None). 단어의 순서가 역순이 된 리스트를 다시 공백 한 칸으로 합쳐주는 join을 활용한다."
   ]
  },
  {
   "cell_type": "code",
   "execution_count": 65,
   "metadata": {},
   "outputs": [
    {
     "name": "stdout",
     "output_type": "stream",
     "text": [
      "PythonandWorldHello\n"
     ]
    }
   ],
   "source": [
    "ss=s.split(' ')\n",
    "s=''.join(ss)\n",
    "print(s)"
   ]
  },
  {
   "cell_type": "markdown",
   "metadata": {},
   "source": [
    "split 메소드를 사용하여 공백 한 칸으로 문자열을 쪼개준다. 쪼갠 문자열은 list 타입이기 때문에 join을 활용하여 공백없이 모두 붙여준다."
   ]
  },
  {
   "cell_type": "markdown",
   "metadata": {},
   "source": [
    "### 3. 다음 코드를 보고 물음에 답하시오.  "
   ]
  },
  {
   "cell_type": "code",
   "execution_count": 66,
   "metadata": {},
   "outputs": [
    {
     "name": "stdout",
     "output_type": "stream",
     "text": [
      "[1, 2, 3, 1, 2, 3, 1, 2, 3]\n",
      "[[1, 2, 3], [1, 2, 3], [1, 2, 3]]\n"
     ]
    }
   ],
   "source": [
    "a = [1, 2, 3]\n",
    "b = a * 3\n",
    "c = [a] * 3\n",
    "print(b)\n",
    "print(c)"
   ]
  },
  {
   "cell_type": "markdown",
   "metadata": {},
   "source": [
    "1) 위 코드를 수행한 이후 다음 코드를 수행한 후 b와 c의 내용을 확인하시오.\n",
    "    >>>>a[0] =0"
   ]
  },
  {
   "cell_type": "code",
   "execution_count": 67,
   "metadata": {},
   "outputs": [
    {
     "name": "stdout",
     "output_type": "stream",
     "text": [
      "[1, 2, 3, 1, 2, 3, 1, 2, 3]\n",
      "[[0, 2, 3], [0, 2, 3], [0, 2, 3]]\n"
     ]
    }
   ],
   "source": [
    "a[0]=0\n",
    "print(b)\n",
    "print(c)"
   ]
  },
  {
   "cell_type": "markdown",
   "metadata": {},
   "source": [
    "2) b와 c 객체의 차이는 무엇인가?"
   ]
  },
  {
   "cell_type": "markdown",
   "metadata": {},
   "source": [
    "b는 a의 리스트 원소를 3번 반복한 새로운 리스트를 지정한 것이고, c는 리스트 c 안에 a 라는 리스트를 3번 반복하여 저장한 것이다."
   ]
  },
  {
   "cell_type": "markdown",
   "metadata": {},
   "source": [
    "### 4. 다음 문자열을 ':'을 기준으로 분리하여 리스트로 만들고 각 문자열의 좌우 공백을 제거하시오 (즉, 문자열 S에서 l을 만들어라)"
   ]
  },
  {
   "cell_type": "code",
   "execution_count": 72,
   "metadata": {},
   "outputs": [],
   "source": [
    "s = '  first star   :   second star   :    third star  '\n",
    "l = ['first star', 'second star', 'third star']"
   ]
  },
  {
   "cell_type": "markdown",
   "metadata": {},
   "source": [
    "1) for ~ in 문을 이용한 코드를 작성하시오."
   ]
  },
  {
   "cell_type": "code",
   "execution_count": 75,
   "metadata": {},
   "outputs": [
    {
     "name": "stdout",
     "output_type": "stream",
     "text": [
      "['first star', 'second star', 'third star']\n"
     ]
    }
   ],
   "source": [
    "k=s.split(':')\n",
    "I=[]\n",
    "for i in k:\n",
    "    I.append(i.strip())\n",
    "print(I)"
   ]
  },
  {
   "cell_type": "markdown",
   "metadata": {},
   "source": [
    "split을 사용하여 ':'을 기준으로 문자열을 분리하였다. 이후 for~ in문을 사용하여 리스트의 각 원소마다 좌우 공백을 제거하기 위해 strip을 사용하였다. strip을 사용하여 좌우 공백이 제거되자마자 바로 I 리스트에 추가하였다."
   ]
  },
  {
   "cell_type": "markdown",
   "metadata": {},
   "source": [
    "2) 리스트 내포(list comprehension)를 이용한 코드를 작성하시오."
   ]
  },
  {
   "cell_type": "code",
   "execution_count": 2,
   "metadata": {},
   "outputs": [
    {
     "name": "stdout",
     "output_type": "stream",
     "text": [
      "['first star', 'second star', 'third star']\n"
     ]
    }
   ],
   "source": [
    "s = '  first star   :   second star   :    third star  '\n",
    "I=[]\n",
    "k=s.split(':')\n",
    "I=[i.strip() for i in k]\n",
    "print(I)"
   ]
  },
  {
   "cell_type": "markdown",
   "metadata": {},
   "source": [
    "### 5. 다음과 같이 0보다 큰 정수 리스트 변수 list를 인자로 받는 함수 addall(list)와 addallodd(list)를 for ~ in 리터널과 리스트 내포 방식으로 각각 제시하시오."
   ]
  },
  {
   "cell_type": "markdown",
   "metadata": {},
   "source": [
    "1) addall(list) 함수 (리스트 내의 모든 정수를 더하는 함수로서 해답으로는 for ~ in 리터럴과 리스트 내포 방식으로 각각 제시하시오.)"
   ]
  },
  {
   "cell_type": "code",
   "execution_count": 23,
   "metadata": {},
   "outputs": [
    {
     "data": {
      "text/plain": [
       "6"
      ]
     },
     "execution_count": 23,
     "metadata": {},
     "output_type": "execute_result"
    }
   ],
   "source": [
    "add_list=[]\n",
    "\n",
    "def addall(add_list):\n",
    "    add_list_sum=0\n",
    "    for i in add_list:\n",
    "        add_list_sum=add_list_sum+i\n",
    "    return add_list_sum\n",
    "addall([1,2,3])"
   ]
  },
  {
   "cell_type": "code",
   "execution_count": 27,
   "metadata": {},
   "outputs": [
    {
     "name": "stdout",
     "output_type": "stream",
     "text": [
      "7\n"
     ]
    }
   ],
   "source": [
    "add_list_com=[]\n",
    "\n",
    "def addall(add_list_com):\n",
    "    return sum([(i) for i in add_list_com])\n",
    "print(addall([1,2,4]))\n",
    "    "
   ]
  },
  {
   "cell_type": "markdown",
   "metadata": {},
   "source": [
    "2)addallodd(list) 함수 (리스트내의 모든 홀수를 더하는 함수로서 해답으로는 for ~ in 리터럴과 리스트 내포 방식으로 각각 제시하시오.)"
   ]
  },
  {
   "cell_type": "code",
   "execution_count": 26,
   "metadata": {},
   "outputs": [
    {
     "name": "stdout",
     "output_type": "stream",
     "text": [
      "9\n"
     ]
    }
   ],
   "source": [
    "add_all_list=[]\n",
    "\n",
    "def addallload(add_all_list):\n",
    "    add_list_sum=0\n",
    "    for i in add_all_list:\n",
    "        if i % 2 == 1:\n",
    "            add_list_sum=add_list_sum+i\n",
    "    return add_list_sum\n",
    "print(addallload([1,2,3,4,5]))"
   ]
  },
  {
   "cell_type": "code",
   "execution_count": 29,
   "metadata": {},
   "outputs": [
    {
     "name": "stdout",
     "output_type": "stream",
     "text": [
      "1\n"
     ]
    }
   ],
   "source": [
    "add_load_com=[]\n",
    "\n",
    "def addallload(add_load_com):\n",
    "    return sum([(i) for i in add_load_com if i%2 == 1])\n",
    "print(addallload([1,2,4]))\n",
    "    "
   ]
  },
  {
   "cell_type": "markdown",
   "metadata": {},
   "source": [
    "### 6. 다음 코드를 보고 물음에 답하시오.\n"
   ]
  },
  {
   "cell_type": "code",
   "execution_count": 30,
   "metadata": {},
   "outputs": [
    {
     "name": "stdout",
     "output_type": "stream",
     "text": [
      "{'low': [1, 2, 3], 'high': [4, 5, 6]}\n",
      "{'low': [1, 2, 3], 'high': [4, 5, 6]}\n",
      "{'low': [1, 2, 3], 'high': [4, 5, 6]}\n",
      "\n",
      "{'low': [10, 20, 30], 'high': [4, 500, 6]}\n",
      "{'low': [10, 20, 30], 'high': [4, 500, 6]}\n",
      "{'low': [1, 2, 3], 'high': [4, 500, 6]}\n"
     ]
    }
   ],
   "source": [
    "L1 = [1, 2, 3]\n",
    "L2 = [4, 5, 6]\n",
    "d = {'low':L1, 'high':L2}\n",
    "e = d\n",
    "f = d.copy()\n",
    "print(d)\n",
    "print(e)\n",
    "print(f)\n",
    "print()\n",
    "d['low'] = [10, 20, 30]\n",
    "d['high'][1] = 500\n",
    "print(d)\n",
    "print(e)\n",
    "print(f)"
   ]
  },
  {
   "cell_type": "markdown",
   "metadata": {},
   "source": [
    "1) 위 코드의 수행 결과 d와 e는 항상 같은 결과를 출력한다. 그 이유는 무엇인가?"
   ]
  },
  {
   "cell_type": "markdown",
   "metadata": {},
   "source": [
    "e는 d 라는 객체를 가리키고 있기 때문에 d가 변하면 e는 변한 d를 가리키고 있기 때문에 d와 e는 항상 같은 결과를 출력한다."
   ]
  },
  {
   "cell_type": "markdown",
   "metadata": {},
   "source": [
    "2) 위 코드의 수행 결과 마지막 f의 내용은 다음과 같다. 이 때 'high' 키의 값 내용 중 500이 출력된 이유와 'low' 키의 값 내용 중 [1, 2, 3]이 출력된 이유를 설명하시오 ([hint]: shallow copy 관점에서 설명하시오.)"
   ]
  },
  {
   "cell_type": "markdown",
   "metadata": {},
   "source": [
    "{'high': [4, 500, 6], 'low': [1, 2, 3]}"
   ]
  },
  {
   "cell_type": "markdown",
   "metadata": {},
   "source": [
    "얕은 복사를 한 경우에는 원본이 변경되면 사본도 함께 변경된다. 즉 레퍼런스 복사가 이루어진다. 사전 객체가 공유된다고 생각하면 된다. 그러나, f는 copy() 메소드를 통해 별도의 객체가 마련되었다. 그렇기 때문에 공유되지 않는다. low 같은 경우에는 low 라는 key 값이 가리키는 value 값 자체가 다른 메소드로 변경되었다. 그러나, high 같은 경우에는 high가 가리키는 value의 일부(즉, value가 가리키는 것은 리스트이고, 리스트의 일부)가 변경된 것이기 때문에 위와 같은 결과를 출력한다."
   ]
  },
  {
   "cell_type": "markdown",
   "metadata": {},
   "source": [
    "### 7. 사전 d = {'one':1, 'two':2, 'three':3, 'four':4, 'five':5}가 주어졌을 때 다음 요구사항에 맞는 코드를 제시하시오\n",
    "#### [참고]: d.keys(), d.values()를 통해 리스트를 얻어낸 후 리스트가 지니고 있는 sort(cmp=None, key=None, reverse=False)함수를 활용하시오. "
   ]
  },
  {
   "cell_type": "code",
   "execution_count": 100,
   "metadata": {},
   "outputs": [],
   "source": [
    "d = {'one':1, 'two':2, 'three':3, 'four':4, 'five':5}\n",
    "\n",
    "def cmp_key(a):\n",
    "    return a[0]\n",
    "def cmp_value(a):\n",
    "    return a[1]"
   ]
  },
  {
   "cell_type": "markdown",
   "metadata": {},
   "source": [
    "1) 키의 알파벳 오름차순 순서대로 튜플 (키, 값)을 차례대로 출력하시오."
   ]
  },
  {
   "cell_type": "code",
   "execution_count": 109,
   "metadata": {},
   "outputs": [
    {
     "name": "stdout",
     "output_type": "stream",
     "text": [
      "[('five', 5), ('four', 4), ('one', 1), ('three', 3), ('two', 2)]\n"
     ]
    }
   ],
   "source": [
    "up_key=list(d.items())\n",
    "up_key.sort(key=cmp_key)\n",
    "print(up_key)"
   ]
  },
  {
   "cell_type": "markdown",
   "metadata": {},
   "source": [
    "리스트의 sort 내장함수를 사용한다. 우선 정렬을 할 때 기준을 키 값으로 설정했다. 이것을 구현하기 위해서 메소드 cmp_key를 작성하였다. 이것은 주어진 사전을 items()를 사용하여 리스트로 바꾸었을 때, 리스트 각 원소의 인덱스0는 키, 인덱스 1은 밸류값인 것을 이용하였다. 즉, cmp_key의 return 값으로 key를 반환하도록, cmp_value의 return 값으로 value 값을 반환하도록 설정했다. 이것을 통해 sort로 정렬을 한다. sort는 반환값이 없고 주어진 리스트를 자체를 정렬한다."
   ]
  },
  {
   "cell_type": "markdown",
   "metadata": {},
   "source": [
    "2) 키의 알파벳 내림차순 순서대로 튜플 (키, 값)을 차례대로 출력하시오."
   ]
  },
  {
   "cell_type": "code",
   "execution_count": 108,
   "metadata": {},
   "outputs": [
    {
     "name": "stdout",
     "output_type": "stream",
     "text": [
      "[('two', 2), ('three', 3), ('one', 1), ('four', 4), ('five', 5)]\n"
     ]
    }
   ],
   "source": [
    "down_key=list(d.items())\n",
    "down_key.sort(key=cmp_key,reverse=True)\n",
    "print(down_key)"
   ]
  },
  {
   "cell_type": "markdown",
   "metadata": {},
   "source": [
    "위의 1)문제와 동일하다. 단지 sort의 reverse 값을 True로 주면서 key값을 기준으로 역순으로 정렬한다."
   ]
  },
  {
   "cell_type": "markdown",
   "metadata": {},
   "source": [
    "3) 값의 오름차순 순서대로 튜플 (키, 값)을 차례대로 출력하시오."
   ]
  },
  {
   "cell_type": "code",
   "execution_count": 110,
   "metadata": {},
   "outputs": [
    {
     "name": "stdout",
     "output_type": "stream",
     "text": [
      "[('one', 1), ('two', 2), ('three', 3), ('four', 4), ('five', 5)]\n"
     ]
    }
   ],
   "source": [
    "up_value=list(d.items())\n",
    "up_value.sort(key=cmp_value)\n",
    "print(up_value)"
   ]
  },
  {
   "cell_type": "markdown",
   "metadata": {},
   "source": [
    "1)문제와 비슷하다. 차이점은 sort의 기준을 value값으로 설정했다는 것이다."
   ]
  },
  {
   "cell_type": "markdown",
   "metadata": {},
   "source": [
    "\n",
    "4) 값의 내림차순 순서대로 튜플 (키, 값)을 차례대로 출력하시오."
   ]
  },
  {
   "cell_type": "code",
   "execution_count": 111,
   "metadata": {},
   "outputs": [
    {
     "name": "stdout",
     "output_type": "stream",
     "text": [
      "[('five', 5), ('four', 4), ('three', 3), ('two', 2), ('one', 1)]\n"
     ]
    }
   ],
   "source": [
    "down_value=list(d.items())\n",
    "down_value.sort(key=cmp_value, reverse=True)\n",
    "print(down_value)"
   ]
  },
  {
   "cell_type": "markdown",
   "metadata": {},
   "source": [
    "3)문제와 비슷하다. sort에 reverse 값을 True로 주면서 value 값을 기준으로 역정렬한다."
   ]
  },
  {
   "cell_type": "markdown",
   "metadata": {},
   "source": [
    "### 8.  [ACM-ICPC 문제 1673번] 강민이는 치킨 한 마리를 주문할 수 있는 치킨 쿠폰을 n장 가지고 있다. 이 치킨집에서는 치킨을 한 마리 주문할 때마다 도장을 하나씩 찍어 주는데, 도장을 k개 모으면 치킨 쿠폰 한 장으로 교환할 수 있다. 강민이가 지금 갖고 있는 치킨 쿠폰으로 치킨을 최대 몇 마리나 먹을 수 있는지 구하여라. 단, 치킨을 주문하기 위해서는 반드시 치킨 쿠폰을 갖고 있어야 한다."
   ]
  },
  {
   "cell_type": "code",
   "execution_count": 1,
   "metadata": {},
   "outputs": [
    {
     "name": "stdout",
     "output_type": "stream",
     "text": [
      "4 3\n",
      "5\n",
      "10 3\n",
      "14\n",
      "100 5\n",
      "124\n"
     ]
    }
   ],
   "source": [
    "for i in range(3):\n",
    "    num=input()\n",
    "    num=num.split()\n",
    "    n=int(num[0])\n",
    "    k=int(num[1])\n",
    "    cp=0\n",
    "    ck=0\n",
    "    while(n>0):\n",
    "        ck=ck+1\n",
    "        n=n-1\n",
    "        cp=cp+1\n",
    "        if(cp%k==0):\n",
    "            n=n+1\n",
    "    print(ck)"
   ]
  },
  {
   "cell_type": "markdown",
   "metadata": {},
   "source": [
    "우선 갖고 있는 쿠폰으로 치킨을 시켜먹는다. 갖고 있는 쿠폰으로 치킨을 시켜먹다 보면, 쿠폰의 도장이 찍혀서 새로운 쿠폰이 또 생긴다. while문을 이용해 치킨 한마리를 시키면, 치킨 ck의 수를 1 증가시키고, 쿠폰 n장에서 -1을 하고, 도장의 개수를 +1한다. 이때 도장의 개수가 k개로 나누어떨어진다면 쿠폰의 개수(n)에 +1을 한다. 이때, 이 while문은 n>0인 조건하에서 반복한다. 그러나, 백준문제에 제출하였을때 시간초과라고 떴지만, 알고리즘은 맞다고 생각합니다."
   ]
  },
  {
   "cell_type": "markdown",
   "metadata": {},
   "source": [
    "<img src=\"img/1673.JPG\">"
   ]
  },
  {
   "cell_type": "markdown",
   "metadata": {},
   "source": [
    "### 9. 이전 Assignment 2의 마지막 문제는 웹 URL로 지정된 웹페이지를 문자열로 가져와 모든 HTML 태그를 제외한 순수 텍스트를 얻어내고 그 안에 존재하는 단어를 추출하고 단어들의 총 개수를 출력하는 프로그램을 작성하는 것이었다. 이번에는 그 마지막 숙제를 그대로 확장하여 웹 URL로 지정된 웹페이지 내 순수 텍스트 안에 존재하는 각 단어들에 대해 다음 요구사항 대로 출력하는 프로그램을 작성하시오. "
   ]
  },
  {
   "cell_type": "markdown",
   "metadata": {},
   "source": [
    "요구사항 1. CSS와 Javascript 내용도 모두 제거하시오 (이전 숙제에서 이미 제외하였다면 본 요구사항 무시)"
   ]
  },
  {
   "cell_type": "code",
   "execution_count": 9,
   "metadata": {},
   "outputs": [],
   "source": [
    "import requests\n",
    "req = requests.get('http://cse.koreatech.ac.kr')\n",
    "source = req.text\n",
    "\n",
    "text = \"\" #순수 텍스트 식별자\n",
    "while(1) :      \n",
    "    source = source[source.find('<'):] #'<'를 찾는다\n",
    "    if source.find(\"<!--\") == 0 : source = source[source.find(\"-->\")+3:] #주석 내용 건너뜀\n",
    "    elif source.find(\"<script>\") == 0 : source = source[source.find(\"</script>\")+9:] #자바스크립트 내용 건너뜀   \n",
    "    else :\n",
    "        source = source[source.find('>')+1:] #'>'를 찾는다\n",
    "        for ch in source :    #'>' 이후부터 한글자씩 가져온다\n",
    "            if ch == '<' : break    # 다시 '<' 문자 등장하면 종료\n",
    "            elif ch == '\\t' or ch == '\\n' : continue    #탭,개행 문자는 순수 텍스트에 포함x\n",
    "            else : text += ch   #순수 텍스트 추가     \n",
    "        if text.endswith(\" \") == False : text += \" \" #공백으로 분리하기 위해 순수 텍스트 추출 후 뒤에 공백문자 추가\n",
    "    if(source.find('<') == -1):break #'<' 문자가 더 이상 없는 경우 무한루프종료 "
   ]
  },
  {
   "cell_type": "markdown",
   "metadata": {},
   "source": [
    "요구사항 2. 순수 텍스트 안에 존재하는 단어들에 대해 string 모듈을 활용하여 모든 punctuation (구두문자)를 완벽히 제거하시오."
   ]
  },
  {
   "cell_type": "code",
   "execution_count": 43,
   "metadata": {},
   "outputs": [
    {
     "name": "stdout",
     "output_type": "stream",
     "text": [
      "['컴퓨터공학부', 'Schoolfun', 'Study', 'and', 'Fun', '로그인', '로그인', '아이디', '비밀번호', '로그인', '유지', '브라우저를', '닫더라도', '로그인이', '계속', '유지될', '수', '있습니다', '로그인', '유지', '기능을', '사용할', '경우', '다음', '접속부터는', '로그인할', '필요가', '없습니다', '단', '게임방', '학교', '등', '공공장소에서', '이용', '시', '개인정보가', '유출될', '수', '있으니', '꼭', '로그아웃을', '해주세요', '회원가입', 'ID/PW', '찾기', 'IT', '교육의', '글로벌', '메카', '한국기술교육대학교', '컴퓨터공학부', 'Close', '소개', '구성원소개', '학사안내', '입학', '학부', '대학원', '학부광장', '자료실', '대학원', '공학교육인증', '학부서비스', 'Registration', '컴퓨터공학부', 'School', 'of', 'Computer', 'Science', 'and', 'Engineering', 'IT', '융합소프트웨어', '인력양성사업', 'CK', 'Creative', 'Korea)-I', '교육역량강화사업', '온라인', '컨텐츠', 'Online', 'Contents', 'for', 'Education', 'Capability', 'Empowerment', 'IT', '교육의', '글로벌', '메카', '한국기술교육대학교', '컴퓨터공학부', '홈페이지에', '오신', '것을', '환영합니다', 'IT', '융합소프트웨어', '인력양성사업', '글로벌', '수준의', 'IT전문인력', '양성', 'IT융합분야에', '대한', '국제적인', '경쟁력', '고취', '바로가기', '교육역량강화사업', '컨텐츠', '교육역량강화사업', '온라인', '컨텐츠를', '소개합니다', '바로가기', '공지사항', 'AR/VR분야', 'Capston', 'Design', '지원', '계획', '2018.11.30.(금', '2018-10-29', '16:30', '16:30', '특성화', '2018학년도', '2학기', '운영', '강좌', '안내', '2018-10-29', '10:56', '10:56', '특성화', '2018', 'IT융합', '아이디어', '경진대회', '안내(2학기', '2018-10-25', '15:01', '15:01', '특성화', '2018', 'IT융합', 'AR', 'Co-Bot', 'Intensive', '캠프', '모집', '2018-10-22', '15:30', '15:30', '졸업작품', '2018', '졸업작품', '산업체', '평가회', '결과에', '따른', '2018-10-19', '14:09', '14:09', '자유게시판', '★문화의날', '행사', '공지★', '2018-10-19', '20:31', '20:31', '졸업작품전시회', '기간', '헤어/메이크업', '2018-10-07', '14:48', '14:48', '※모의토익비', '지원', '공지※', '2018-09-28', '09:37', '09:37', 'ACM-ICPC', '예선', '신청기간이', '얼마', '안', '남았습니다', '2018-09-13', '11:36', '11:36', '문화행사', '취소', '공지', '2018-09-10', '19:17', '19:17', '취업게시판', '㈜비즈테크파트너스', 'LG', 'CNS자회사', '신입', '개발직', '2018', '2018-10-25', '16:29', '16:29', '국가보안기술연구소', '정규직', '채용', '2018-10-04', '14:18', '14:18', '한글과컴퓨터그룹', '2018년', '하반기', '신입/경력', '공채', '10.10', '2018-09-27', '13:13', '13:13', '구인]천안', '충무병원', '전산실', '2018-09-18', '15:25', '15:25', '정부교육', 'K-Shield', '주니어', '교육생', '모집(정보보호', '9.5', '2018-09-03', '07:53', '07:53', 'Platum', '표철민', '대표', '“블록체인', '생태계', '조성위해', '불법만', '아니면', '2018-10-29', '15:50', '15:50', '아산나눔재단', '‘아산', '기업가정신', '교육', '포럼’', '개최', '2018-10-29', '09:43', '09:43', '10월', '29일', '스타트업', '비즈니스', '동향', '메쉬코리아', '위드', '2018-10-29', '09:36', '09:36', '블록체인', '기반', '기업용', '솔루션', '개발', '스타트업', '‘블록오', '2018-10-29', '08:37', '08:37', '더팀스', '커리어피드', '스타트업', '취업의', '고수가', '되는', '방법', '2018-10-29', '08:36', '08:36', '전자신문', '2018', '국정감사]화웨이', '5G', '장비', '보안', '검증', '수용', '2018-10-29', '18:41', '18:41', '이슈분석]역차별', '해소', '글로벌', '동향은', '2018-10-29', '17:00', '17:00', 'SK텔레콤', '중소기업과', '5G', '모세혈관', '고도화', '나선다', '2018-10-29', '17:00', '17:00', 'SK브로드밴드', '세계', '3번째', '프로그래매틱', '광고', '도입', '2018-10-29', '17:00', '17:00', '이슈분석]글로벌ICT기업', '역차별', '해소', '5대', '분야', '2018-10-29', '17:00', '17:00', 'TechCrunch', 'Atlassian', 'sells', 'Jitsi', 'an', 'open-source', 'videocon', '2018-10-29', '22:41', '22:41', 'Here', 'are', 'the', '20', 'games', 'shipping', 'with', 'the', 'PlaySt', '2018-10-29', '22:08', '22:08', 'DJI', 'releases', 'a', 'modified', 'Mavic', '2', 'drone', 'aimed', 'at', '2018-10-29', '22:00', '22:00', 'Blue', 'Apron', 'gets', 'a', 'much-needed', 'boost', 'with', 'Jet.c', '2018-10-29', '21:57', '21:57', 'IBM', 'is', 'betting', 'the', 'farm', 'on', 'Red', 'Hat', '—', 'and', 'it', 'be', '2018-10-29', '21:46', '21:46', 'Quick', 'Navigation', '한국기술교육대학교', '홈페이지', '한국기술교육대학교', 'WEBMAIL', '한국기술교육대학교', '온라인', '평생교육원', 'IT', '융합소프트웨어', '인력양성사업', '컴퓨터공학부', '교직원', '업무', '자료실', 'Campus', 'Location', 'Contact', 'CSE', '충청남도', '천안시', '동남구', '병천면', '충절로', '1600', '한국기술교육대학교', '컴퓨터공학부', '학과사무실', 'TEL', '041', '560', '1460', '1461', 'FAX', '041', '560', '1462', 'Facebook', '31253', '충청남도', '천안시', '동남구', '병천면', '충절로', '1600', '가전리', '한국기술교육대학교', '컴퓨터공학부', 'Copyright', '©', '2015', 'All', 'rights', 'reserved']\n"
     ]
    }
   ],
   "source": [
    "import string\n",
    "\n",
    "for k in range(0,len(list)):\n",
    "    list[k]=list[k].strip(string.punctuation)\n",
    "\n",
    "count=0\n",
    "for k in range(0,len(list)):\n",
    "    if(list[k] ==''):\n",
    "        count+=1\n",
    "        \n",
    "for k in range(0,count):\n",
    "    list.remove('')\n",
    "    \n",
    "print(list)"
   ]
  },
  {
   "cell_type": "markdown",
   "metadata": {},
   "source": [
    "요구사항 3. 각 단어들의 출현빈도를 사전형태로 저장하여 출력하시오."
   ]
  },
  {
   "cell_type": "code",
   "execution_count": 49,
   "metadata": {},
   "outputs": [
    {
     "ename": "TypeError",
     "evalue": "'dict_keys' object cannot be interpreted as an integer",
     "output_type": "error",
     "traceback": [
      "\u001b[1;31m---------------------------------------------------------------------------\u001b[0m",
      "\u001b[1;31mTypeError\u001b[0m                                 Traceback (most recent call last)",
      "\u001b[1;32m<ipython-input-49-0b60673c91c5>\u001b[0m in \u001b[0;36m<module>\u001b[1;34m()\u001b[0m\n\u001b[0;32m     10\u001b[0m \u001b[0mvalues\u001b[0m\u001b[1;33m=\u001b[0m\u001b[0md\u001b[0m\u001b[1;33m.\u001b[0m\u001b[0mvalues\u001b[0m\u001b[1;33m(\u001b[0m\u001b[1;33m)\u001b[0m\u001b[1;33m\u001b[0m\u001b[0m\n\u001b[0;32m     11\u001b[0m \u001b[1;33m\u001b[0m\u001b[0m\n\u001b[1;32m---> 12\u001b[1;33m \u001b[1;32mfor\u001b[0m \u001b[0mi\u001b[0m \u001b[1;32min\u001b[0m \u001b[0mrange\u001b[0m\u001b[1;33m(\u001b[0m\u001b[1;36m0\u001b[0m\u001b[1;33m,\u001b[0m\u001b[0mkeys\u001b[0m\u001b[1;33m)\u001b[0m\u001b[1;33m:\u001b[0m\u001b[1;33m\u001b[0m\u001b[0m\n\u001b[0m\u001b[0;32m     13\u001b[0m     \u001b[0mprint\u001b[0m\u001b[1;33m(\u001b[0m\u001b[0mkeys\u001b[0m\u001b[1;33m[\u001b[0m\u001b[0mi\u001b[0m\u001b[1;33m]\u001b[0m\u001b[1;33m,\u001b[0m\u001b[1;34m\":\"\u001b[0m\u001b[1;33m,\u001b[0m \u001b[0mvalues\u001b[0m\u001b[1;33m[\u001b[0m\u001b[0mi\u001b[0m\u001b[1;33m]\u001b[0m\u001b[1;33m)\u001b[0m\u001b[1;33m\u001b[0m\u001b[0m\n",
      "\u001b[1;31mTypeError\u001b[0m: 'dict_keys' object cannot be interpreted as an integer"
     ]
    }
   ],
   "source": [
    "d=dict()\n",
    "\n",
    "for  c in list:\n",
    "    if c not in d:\n",
    "        d[c] = 1\n",
    "    else:\n",
    "        d[c] +=1\n",
    "\n",
    "keys = d.keys()\n",
    "values=d.values()\n",
    "\n",
    "for i in range(0,len(keys)):\n",
    "    print(keys[i],\":\", values[i])"
   ]
  },
  {
   "cell_type": "markdown",
   "metadata": {},
   "source": [
    "소감\n",
    "지난 과제에 비해 매우 어려웠다. 특히 마지막 문제에서 출현빈도 누적하는 것을 찾아봤지만 구현이 어려웠다."
   ]
  }
 ],
 "metadata": {
  "kernelspec": {
   "display_name": "Python 3",
   "language": "python",
   "name": "python3"
  },
  "language_info": {
   "codemirror_mode": {
    "name": "ipython",
    "version": 3
   },
   "file_extension": ".py",
   "mimetype": "text/x-python",
   "name": "python",
   "nbconvert_exporter": "python",
   "pygments_lexer": "ipython3",
   "version": "3.6.5"
  }
 },
 "nbformat": 4,
 "nbformat_minor": 2
}
