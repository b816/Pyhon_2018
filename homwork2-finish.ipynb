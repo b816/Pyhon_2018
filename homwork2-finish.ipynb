{
 "cells": [
  {
   "cell_type": "markdown",
   "metadata": {},
   "source": [
    "### 1. 다음 6 개의 Expression에 대해 Evaluation 결과 값을 출력하고, 해당 결과가 나온 이유에 대해 설명하시오"
   ]
  },
  {
   "cell_type": "code",
   "execution_count": 1,
   "metadata": {},
   "outputs": [
    {
     "name": "stdout",
     "output_type": "stream",
     "text": [
      "4\n",
      "1\n",
      "2\n",
      "2\n",
      "1\n",
      "3\n"
     ]
    }
   ],
   "source": [
    "print(1 and 2 and 3 and 4)\n",
    "print(1 or 2 or 3 or 4)\n",
    "print(1 and 2 or 3 and 4)\n",
    "print((1 and 2) or (3 and 4))\n",
    "print(1 or 2 and 3 or 4)\n",
    "print((1 or 2) and (3 or 4))"
   ]
  },
  {
   "cell_type": "markdown",
   "metadata": {},
   "source": [
    "1. and만 존재하기에 모두 맞는지 끝까지 확인해야하기 때문에 4가 출력되었다.\n",
    "2. or만 존재하기 때문에 앞에서 True라고 판단된다면 끝까지 확인할 필요가 없기 때문에 1이 출력된다.\n",
    "3. 1 and 이니까 다음으로 이동한 후, (1 and 2) or 이기에 2에서 판단을 멈춘다.\n",
    "4. (1 and 2)이기에 닫는 괄호까지 이동한 후 or이기에 이동을 멈춰서 2가 출력된다.\n",
    "5. 1 or 2 이기에 판단을 위한 이동을 멈추고 1이 출력된다.\n",
    "6. (1 or 2)는 괄호 안에서 판단이 1에서 멈춘다. 그러나 , 가장 바깥에는 and가 있기 때문에 (1 or 2)를 지나 (3 or 4)의 괄호까지 이동한다. 두번째 괄호쌍 안에는 or이기에 3에서 판단을 멈춰 3이 출력된다."
   ]
  },
  {
   "cell_type": "markdown",
   "metadata": {},
   "source": [
    "### 2. 경로에 해당하는 문자열 1개를 입력 받아 그 안에 디렉토리 경로명과 파일명을 분리하여 리스트로 반환하는 함수 div_path(s)를 작성하시오.\n",
    "#### 인자로 전달하는 문자열은 경로만 들어간다고 가정한다. 각 디렉토리와 파일을 구분하는 문자는 '/'로 가정한다. 반환하는 리스트의 첫번째 원소는 디렉토리이고 두번째 원소는 파일명이다. 다음과 같은 실행 및 출력 결과가 도출되어야 한다. div_path('/usr/local/bin/python') ['/usr/local/bin', 'python'] div_path('/home/chulsoo/test.txt') ['/home/chulsoo', 'test.txt'] [참고] 리스트(l) 내에 새로운 정수값 (예를 들어 10)을 넣는 방법은 l.append(10) 이다."
   ]
  },
  {
   "cell_type": "code",
   "execution_count": 1,
   "metadata": {},
   "outputs": [],
   "source": [
    "def div_path():\n",
    "    s=input()\n",
    "    I=[]\n",
    "    s=s.split('/')\n",
    "    I.append('/'.join(s[0:len(s)-1]))\n",
    "    I.append(s[len(s)-1])\n",
    "    print(I)"
   ]
  },
  {
   "cell_type": "code",
   "execution_count": 3,
   "metadata": {},
   "outputs": [
    {
     "name": "stdout",
     "output_type": "stream",
     "text": [
      "/home/jieun/python/assignment\n",
      "['/home/jieun/python', 'assignment']\n"
     ]
    }
   ],
   "source": [
    "div_path()"
   ]
  },
  {
   "cell_type": "markdown",
   "metadata": {},
   "source": [
    "함수를 작성하기 위해서 def라는 명령어를 사용했다. 우선 경로만 입력되는 문자열이라고 가정했다. 마지막 슬래쉬 뒤에 존재하는 문자열이 파일명이고 그 이전은 디렉토리이다. 이를 분리하기 위해서 우선 문자열을 '/'로 분리하는 split()을 활용하였다. 이를 활용하면 '/'를 제거함과 동시에 '/'로 분리된 단어들의 리스트를 얻을 수 있다. 리스트를 얻은 후, 마지막 단어 이전까지를 다시 '/'로 join을 이용하여 결합하여 append를 통해 I라는 리스트에 넣는다. s에 존재했던 파일명을 가리키는 단어를 I의 마지막 위치에 추가한다. 이로써 문제에서 원하는 결과를 도출할 수 있다."
   ]
  },
  {
   "cell_type": "markdown",
   "metadata": {},
   "source": [
    "### 3. 두 개의 리스트를 인자로 받아서 그 두 개의 리스트에 대한 '합집합'을 반환하는 함수 list_union(lista, listb)를 작성하시오\n",
    "#### 인자로 전달하는 리스트 2 개에는 정수값만 들어간다고 가정하자.   함수 내에서 새로운 리스트를 만들어 그 리스트 내에 인자로 받은 두 리스트의 모든 원소를 넣어 반환한다.  반환하는 리스트에는 절대로 중복된 원소가 들어 있으면 안된다 (집합의 조건).  반환하는 리스트는 정렬이 되어 있어야 한다.   다음과 같은 실행 및 출력 결과가 도출되어야 한다. \n",
    "##### list_union([1, 2, 3], [1, 2, 4])\n",
    "#####    [1, 2, 3, 4]\n",
    "##### list_union([-10, -5, 0, -1], [100, 9, 0, 9])\n",
    "#####    [-10, -5, -1, 0, 9, 100]\n",
    "##### list_union([0, 1, 2], [0, 1, 2])\n",
    "#####   [0, 1, 2]\n",
    "##### [참고] 리스트(l) 내에 새로운 정수값 (예를 들어 10)을 넣는 방법은 l.append(10) 이다.\n",
    "##### [참고] 임의의 정수값 (x)이 리스트 (l) 내에 존재하는지 판단하는 방법은 x in l 이다."
   ]
  },
  {
   "cell_type": "code",
   "execution_count": 18,
   "metadata": {},
   "outputs": [],
   "source": [
    "def list_union(lista, listb):\n",
    "    k=[]\n",
    "    k=lista+listbdx\n",
    "    c=k.sort()\n",
    "    for i in k:\n",
    "        if(k.count(i)>1):\n",
    "            x=k.count(i)\n",
    "            for j in range(x-1):\n",
    "                del k[k.index(i)]    \n",
    "    print(k)"
   ]
  },
  {
   "cell_type": "code",
   "execution_count": 19,
   "metadata": {},
   "outputs": [
    {
     "name": "stdout",
     "output_type": "stream",
     "text": [
      "[0, 1, 2]\n",
      "[1, 2, 3, 4]\n",
      "[-10, -5, -1, 0, 9, 100]\n"
     ]
    }
   ],
   "source": [
    "list_union([0, 1, 2], [0, 1, 2])\n",
    "list_union([1, 2, 3], [1, 2, 4])\n",
    "list_union([-10, -5, 0, -1], [100, 9, 0, 9])"
   ]
  },
  {
   "cell_type": "markdown",
   "metadata": {},
   "source": [
    "새로운 리스트 k를 선언한다. k에 lista와 listb를 연결하여 정렬을 한다. 원소마다 리스트 안에 원소가 몇개있는지 헤아린다. 만약 중복되는 원소기 2개 이상 있다면, k.count()에서 한 개를 뺀 수 만큼 del를 하여 리스트의 원소를 제거한다."
   ]
  },
  {
   "cell_type": "markdown",
   "metadata": {},
   "source": [
    "### ACM-ICPC 10809번. 알파벳 소문자로만 이루어진 단어 S가 주어진다. 각각의 알파벳에 대해서, 단어에 포함되어 있는 경우에는 처음 등장하는 위치를, 포함되어 있지 않은 경우에는 -1을 출력하는 프로그램을 작성하시오. "
   ]
  },
  {
   "cell_type": "code",
   "execution_count": 6,
   "metadata": {},
   "outputs": [
    {
     "name": "stdout",
     "output_type": "stream",
     "text": [
      "jieeuun\n",
      "-1 -1 -1 -1 2 -1 -1 -1 1 0 -1 -1 -1 6 -1 -1 -1 -1 -1 -1 4 -1 -1 -1 -1 -1 "
     ]
    }
   ],
   "source": [
    "alphabet_str=\"abcdefghijklmnopqrstuvwxyz\"    \n",
    "su=input()\n",
    "\n",
    "for i in alphabet_str:\n",
    "    if(i in su):\n",
    "        print(su.index(i), end = \" \")\n",
    "    else:\n",
    "        print(\"-1\", end=\" \")"
   ]
  },
  {
   "cell_type": "markdown",
   "metadata": {},
   "source": [
    "<img src=\"img/10809.JPG\">"
   ]
  },
  {
   "cell_type": "markdown",
   "metadata": {},
   "source": [
    "알파벳을 비교하여 카운팅을 하기 위해서 기본적인 알파벳 문자열을 하나 생성하였다. su라는 객체에 문자열을 입력받는다. for문의 i는 알파벳 기본 문자열에서 인덱스가 하나씩 증가하면서 움직이면서 입력받은 문자열 su에 각 알파벳이 있는지 if(i in su)를 통해 판단한다. 만약 있다면 그대로 su.index(i)를 통해 su 문자열에서 해당 알파벳이 어떤 인덱스에 위치해있는지 출력하고, 아니라면 -1을 출력하도록 한다."
   ]
  },
  {
   "cell_type": "markdown",
   "metadata": {},
   "source": [
    "### ACM-ICPC 2675번 문자열 S를 입력받은 후에, 각 문자를 R번 반복해 새 문자열 P를 만든 후 출력하는 프로그램을 작성하시오. 즉, 첫 번째 문자를 R번 반복하고, 두 번째 문자를 R번 반복하는 식으로 P를 만들면 된다. S에는 QR Code \"alphanumeric\" 문자만 들어있다.\n",
    "#### QR Code \"alphanumeric\" 문자는 0123456789ABCDEFGHIJKLMNOPQRSTUVWXYZ\\$%*+-./: 이다."
   ]
  },
  {
   "cell_type": "code",
   "execution_count": 20,
   "metadata": {},
   "outputs": [
    {
     "name": "stdout",
     "output_type": "stream",
     "text": [
      "2\n",
      "2 AB\n",
      "AABB\n",
      "3 /HB\n",
      "///HHHBBB\n"
     ]
    }
   ],
   "source": [
    "t=int(input())\n",
    "for i in range(t):\n",
    "    rs=input().split(' ')\n",
    "    text=''\n",
    "    for c in rs[1]:\n",
    "        text+=c*int(rs[0])\n",
    "    print(text)"
   ]
  },
  {
   "cell_type": "markdown",
   "metadata": {},
   "source": [
    "<img src=\"img/2675.JPG\">"
   ]
  },
  {
   "cell_type": "markdown",
   "metadata": {},
   "source": [
    "t를 통해 이 문자열 반복을 몇 번할지 입력 받는다. 공백을 통해 각 문자를 r번 반복할 횟수와 반복할 문자열 s를 한번에 입력받는다. 이를 split를 통해 공백으로 구분하여 리스트 rs 안에 각각 저장한다. for문을 통해 rs[1]에 저장된 문자열s를 각각 rs[0]에 저장된 r번 반복하여 문자열 text에 저장한다. 이후 text를 출력하면 원하는 대로 출력된다."
   ]
  },
  {
   "cell_type": "markdown",
   "metadata": {},
   "source": [
    "### Incremental Project 문제\n",
    "#### 1) 웹 URL로 지정된 웹페이지를 문자열로 가져와 1) 모든 HTML 태그를 제외한 순수 텍스트 문자열만을 걸러내고, 2) 그 순수 텍스트 문자열 안에 존재하는 단어가 총 몇개인지 출력하는 프로그램을 작성하시오."
   ]
  },
  {
   "cell_type": "code",
   "execution_count": 8,
   "metadata": {},
   "outputs": [],
   "source": [
    "import requests\n",
    "req=requests.get(\"http://cse.koreatech.ac.kr\")\n",
    "source=req.text"
   ]
  },
  {
   "cell_type": "code",
   "execution_count": 11,
   "metadata": {},
   "outputs": [],
   "source": [
    "#print(source)"
   ]
  },
  {
   "cell_type": "code",
   "execution_count": 10,
   "metadata": {},
   "outputs": [
    {
     "name": "stdout",
     "output_type": "stream",
     "text": [
      "365\n"
     ]
    }
   ],
   "source": [
    "sl=source.split('<')\n",
    "L2=[]\n",
    "L=[]\n",
    "\n",
    "for i in sl:\n",
    "    if '>' in i:\n",
    "        id=i.find('>')\n",
    "        L.append(i[id+1:])\n",
    "for j in L:\n",
    "    L2.append(j.strip())\n",
    "\n",
    "ss=''.join(L2)\n",
    "print(ss.count(' '))"
   ]
  },
  {
   "cell_type": "markdown",
   "metadata": {},
   "source": [
    "requests 패키지를 설치하여 웹페이지의 모든 문자열로 가져온 후, html태그는 <로 시작해서 >로 끝나기 때문에 <로 모든 문자여을 split하였다. split('<')을 하고나면 '<'은 제거되고, '<'을 기준으로 구분된 단어들이 리스트에 저장된다. 저장된 리스트 sl을 반복문을 활용하여 각각 원소에 저장된 단어의 문자열에서 '>'이 있는지 신원확인하고 맞다면 해당 문자열 내에서 '>'의 인덱스 값을 구한 뒤, '>'의 뒤에 남은 문자열을 새로운 리스트 L2에 추가해준다. 그렇다면 순수 텍스트 문자열만이 리스트에 추가된다. 이후 리스트에 추가된 순수 텍스트들을 모두 붙여 ss에 저장한다. ss에서 단어를 구분하기 위해서는 ' ' 공백을 기준으로 횟수를 측정하면 알 수 있다. 그래서 ss.count(' ')를 출력하면 된다."
   ]
  },
  {
   "cell_type": "markdown",
   "metadata": {},
   "source": [
    "### 소감\n",
    "이번 과제를 하면서 조금 힘겨웠다. 어려웠던 점은 리스트의 메소드와 문자열의 메소드가 혼합되어서 문자열을 split하여 리스트로 변환하고서 문자열의 메소드로 수행 가능한 기능을 리스트에서 하고 있으니 자꾸 오류가 발생했다. 이렇게 시행착오를 겪으면서 리스트와 문자열의 경계선이 명확해졌다고 느꼈다. 마지막 문제인 파싱에 대해서는 문제를 처음 읽었을 때, 꺽쇠 시작 부분부터 꺽쇠 닫힘 부분까지 드러내면 되지 않나? 하고 쉽게 생각되었다. 문제를 딱 보고 막막한 느낌은 없었기 때문이다. 그러나, 생각을 토대로 코딩을 해보니 전혀 그렇게 작동되지 않았다. 그래서 앞에서 차근차근 풀어왔던 다섯 문제를 다시 보면서 '아 이걸 여기다가 작동시키면 되겠다!' 느끼며 코딩을 수정해나가니 성공하였다. 문자열과 리스트가 굉장히 비슷하지만 다른 자료형이라고 느꼈다. 과제를 수행하면서 지금까지 이러닝과 수업을 들으면서 배웠던 것들을 체화에 어느 정도 성공했다고 느낀다."
   ]
  }
 ],
 "metadata": {
  "kernelspec": {
   "display_name": "Python 3",
   "language": "python",
   "name": "python3"
  },
  "language_info": {
   "codemirror_mode": {
    "name": "ipython",
    "version": 3
   },
   "file_extension": ".py",
   "mimetype": "text/x-python",
   "name": "python",
   "nbconvert_exporter": "python",
   "pygments_lexer": "ipython3",
   "version": "3.6.5"
  }
 },
 "nbformat": 4,
 "nbformat_minor": 2
}
