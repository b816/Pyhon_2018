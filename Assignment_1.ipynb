{
 "cells": [
  {
   "cell_type": "markdown",
   "metadata": {},
   "source": [
    "### 문제1 a=\"Hello Python\" 문자열을 Slicing과 연결 연산자 (+)를 사용하여 \"Python Hello\"로 변경하시오. [주의] a 변수 자체에 \"Python Hello\" 문자열이 저장되어야 함"
   ]
  },
  {
   "cell_type": "code",
   "execution_count": 1,
   "metadata": {},
   "outputs": [
    {
     "name": "stdout",
     "output_type": "stream",
     "text": [
      "Python Hello \n"
     ]
    }
   ],
   "source": [
    "a= \"Hello Python\"\n",
    "a= a[6:] + \" \" + a[0:6]\n",
    "print(a)"
   ]
  },
  {
   "cell_type": "markdown",
   "metadata": {},
   "source": [
    "a에 저장된 문자열 \"Hello Python\"을 인덱스6(P)부터 끝까지 슬라이싱하여 \" Hello\"와 연결 연산자를 통해 연결한다."
   ]
  },
  {
   "cell_type": "markdown",
   "metadata": {},
   "source": [
    "### 문제2 b=\"Hello Python World\" 문자열을 Slicing과 연결 연산자 (+)를 사용하여 \"World Python Hello\"로 변경하시오. [주의] b 변수 자체에 \"World Python Hello\" 문자열이 저장되어야 함"
   ]
  },
  {
   "cell_type": "code",
   "execution_count": 2,
   "metadata": {},
   "outputs": [
    {
     "name": "stdout",
     "output_type": "stream",
     "text": [
      "World Python Hello\n"
     ]
    }
   ],
   "source": [
    "b= \"Hello Python World\"\n",
    "b= b[13:] + b[5:13] + b[0:5]\n",
    "print(b)"
   ]
  },
  {
   "cell_type": "markdown",
   "metadata": {},
   "source": [
    "슬라이싱을 하는 것이 객체 b가 가리키고 있는 문자열에서 슬라이싱을 통해 지정된 범위를 가져오는 것이기 때문에 위와 같은 코드를 구성했다. 또한 첫번째 슬라이싱을 통해 얻은 'World'의 뒤에 공백이 없기 때문에 두번째 슬라이싱에서 공백을 포함하여 슬라이싱을 하였다. 그래서 ' Python'을 얻었고, 세번째 슬라이싱도 마찬가지로 ' Hello'를 얻을 수 있었다. 위의 슬라이싱들을 연결 연산자를 통해 연결하여 다시 객체 b에 저장한 뒤 출력하였다."
   ]
  },
  {
   "cell_type": "markdown",
   "metadata": {},
   "source": [
    "### 문제3 c=\"Hello\"를 \"olleH\"로 변경하시오. [주의] c 변수 자체에 \"olleH\" 문자열이 저장되어야 함"
   ]
  },
  {
   "cell_type": "code",
   "execution_count": 3,
   "metadata": {},
   "outputs": [
    {
     "name": "stdout",
     "output_type": "stream",
     "text": [
      "olleH\n"
     ]
    }
   ],
   "source": [
    "c=\"Hello\"\n",
    "c=c[::-1]\n",
    "print(c)"
   ]
  },
  {
   "cell_type": "markdown",
   "metadata": {},
   "source": [
    "슬라이싱의 스텝을 -1로 설정하여 거꾸로 차례대로 슬라이싱을 한다면, c에 거꾸로 저장이 가능하다."
   ]
  },
  {
   "cell_type": "markdown",
   "metadata": {},
   "source": [
    "### 문제4 s=\"python\"에 대해 다음 문제를 풀어보시오."
   ]
  },
  {
   "cell_type": "markdown",
   "metadata": {},
   "source": [
    "### A. s[0], s[0][0], s[0][0][0]은 각각 어떤 값이 나오는지 확인하고 그 이유를 나름대로 설명해 보시오."
   ]
  },
  {
   "cell_type": "code",
   "execution_count": 4,
   "metadata": {},
   "outputs": [
    {
     "name": "stdout",
     "output_type": "stream",
     "text": [
      "p\n",
      "p\n",
      "p\n"
     ]
    }
   ],
   "source": [
    "s=\"python\"\n",
    "print(s[0])\n",
    "print(s[0][0])\n",
    "print(s[0][0][0])"
   ]
  },
  {
   "cell_type": "markdown",
   "metadata": {},
   "source": [
    "s[0]라면 1차원, s[0][0]는 2차원, s[0][0][0]는 3차원이라고 생각한다면 결국 같은 위치를 가리키고 있다. 그러므로 같은 p가 출력된다."
   ]
  },
  {
   "cell_type": "markdown",
   "metadata": {},
   "source": [
    "### B. s[-100], s[100]은 값이 나오는지 에러가 나오는지 확인하고 그 결과에 대한 이유를 나름대로 설명해 보시오."
   ]
  },
  {
   "cell_type": "code",
   "execution_count": 5,
   "metadata": {},
   "outputs": [
    {
     "ename": "IndexError",
     "evalue": "string index out of range",
     "output_type": "error",
     "traceback": [
      "\u001b[1;31m---------------------------------------------------------------------------\u001b[0m",
      "\u001b[1;31mIndexError\u001b[0m                                Traceback (most recent call last)",
      "\u001b[1;32m<ipython-input-5-6ff801c92c94>\u001b[0m in \u001b[0;36m<module>\u001b[1;34m()\u001b[0m\n\u001b[0;32m      1\u001b[0m \u001b[0ms\u001b[0m\u001b[1;33m=\u001b[0m\u001b[1;34m\"python\"\u001b[0m\u001b[1;33m\u001b[0m\u001b[0m\n\u001b[1;32m----> 2\u001b[1;33m \u001b[0mprint\u001b[0m\u001b[1;33m(\u001b[0m\u001b[0ms\u001b[0m\u001b[1;33m[\u001b[0m\u001b[1;33m-\u001b[0m\u001b[1;36m100\u001b[0m\u001b[1;33m]\u001b[0m\u001b[1;33m)\u001b[0m\u001b[1;33m\u001b[0m\u001b[0m\n\u001b[0m\u001b[0;32m      3\u001b[0m \u001b[0mprint\u001b[0m\u001b[1;33m(\u001b[0m\u001b[0ms\u001b[0m\u001b[1;33m[\u001b[0m\u001b[1;36m100\u001b[0m\u001b[1;33m]\u001b[0m\u001b[1;33m)\u001b[0m\u001b[1;33m\u001b[0m\u001b[0m\n",
      "\u001b[1;31mIndexError\u001b[0m: string index out of range"
     ]
    }
   ],
   "source": [
    "s=\"python\"\n",
    "print(s[-100])\n",
    "print(s[100])"
   ]
  },
  {
   "cell_type": "markdown",
   "metadata": {},
   "source": [
    "s[-100], s[100]은 문자열 인덱스의 범위를 초과했기 때문에 에러가 발생한다. 문자열을 초기화할 때, s라는 객체가 할당받은 메모리의 크기가 정해져있다. 인덱스는 그 배열의 메모리를 쉽게 파악할 수 있는 역할을 한다. 객체의 인덱스 범위를 초과하게 되면 해당 객체를 가리키는 것이 아니기 때문에 에러가 발생하게 된다."
   ]
  },
  {
   "cell_type": "markdown",
   "metadata": {},
   "source": [
    "### C. s[-100, 100]은 값이 나오는지 에러가 나오는지 확인하고 그 결과에 대한 이유를 나름대로 설명해 보시오."
   ]
  },
  {
   "cell_type": "code",
   "execution_count": 6,
   "metadata": {},
   "outputs": [
    {
     "ename": "TypeError",
     "evalue": "string indices must be integers",
     "output_type": "error",
     "traceback": [
      "\u001b[1;31m---------------------------------------------------------------------------\u001b[0m",
      "\u001b[1;31mTypeError\u001b[0m                                 Traceback (most recent call last)",
      "\u001b[1;32m<ipython-input-6-8b6ae6e3aeba>\u001b[0m in \u001b[0;36m<module>\u001b[1;34m()\u001b[0m\n\u001b[0;32m      1\u001b[0m \u001b[0ms\u001b[0m\u001b[1;33m=\u001b[0m\u001b[1;34m\"python\"\u001b[0m\u001b[1;33m\u001b[0m\u001b[0m\n\u001b[1;32m----> 2\u001b[1;33m \u001b[0mprint\u001b[0m\u001b[1;33m(\u001b[0m\u001b[0ms\u001b[0m\u001b[1;33m[\u001b[0m\u001b[1;33m-\u001b[0m\u001b[1;36m100\u001b[0m\u001b[1;33m,\u001b[0m\u001b[1;36m100\u001b[0m\u001b[1;33m]\u001b[0m\u001b[1;33m)\u001b[0m\u001b[1;33m\u001b[0m\u001b[0m\n\u001b[0m",
      "\u001b[1;31mTypeError\u001b[0m: string indices must be integers"
     ]
    }
   ],
   "source": [
    "s=\"python\"\n",
    "print(s[-100,100])"
   ]
  },
  {
   "cell_type": "markdown",
   "metadata": {},
   "source": [
    "에러가 나온다. 배열의 인덱스에 들어갈 수 있는 값은 +(문자열 길이 -1)부터 -(문자열 길이)까지의 정수이다."
   ]
  },
  {
   "cell_type": "markdown",
   "metadata": {},
   "source": [
    "### D. s[1:-1]의 결과를 확인하고 그 결과에 대한 이유를 정확하게 설명하시오."
   ]
  },
  {
   "cell_type": "code",
   "execution_count": 7,
   "metadata": {
    "scrolled": true
   },
   "outputs": [
    {
     "name": "stdout",
     "output_type": "stream",
     "text": [
      "ytho\n"
     ]
    }
   ],
   "source": [
    "s= \"python\"\n",
    "print(s[1:-1])"
   ]
  },
  {
   "cell_type": "markdown",
   "metadata": {},
   "source": [
    "s[1:-1]은 인덱스 1을 포함하고 인덱스 -1을 포함하지 않는 범위까지 슬라이싱한 것이다. 이 때, s[1]은 y이고 s[-1]은 n이다. 그러므로 ytho만이 출력된것이다. 여기서 상식적으로는 1부터 -1까지 스텝이 1이다. -1로 스텝을 설정할 경우에는 공백만 나오고 문자를 확인할 수 없다. 왜냐하면 문자열에서 n이 갖고 있는 인덱스값은 두개이다. -1과 5라는 인덱스 값을 두개 갖고 있기 때문에 두 값이 호환되면서 사용되었다고 생각된다. 그렇기 때문에 스텝이 1인 상태로 순차적으로 오른쪽 방향으로 문자열이 출력되었다."
   ]
  },
  {
   "cell_type": "markdown",
   "metadata": {},
   "source": [
    "### E. s[3:-3]의 결과를 확인하고 그 결과에 대한 이유를 정확하게 설명하시오."
   ]
  },
  {
   "cell_type": "code",
   "execution_count": 8,
   "metadata": {},
   "outputs": [
    {
     "name": "stdout",
     "output_type": "stream",
     "text": [
      "\n"
     ]
    }
   ],
   "source": [
    "s=\"python\"\n",
    "print(s[3:-3])"
   ]
  },
  {
   "cell_type": "markdown",
   "metadata": {},
   "source": [
    "아무것도 문자가 출력되지 않고 줄바꿈만 된다. 왜냐하면, 슬라이싱은 시작지점을 포함하지만, 끝나는 지점의 값은 포함하지 않는다. 이 때, 범위를 살펴보면 s[3]은 h이고, s[-3] 또한 h이다. 그러므로 아무것도 해당되지 않기에 슬라이싱이 위와 같이 출력된다."
   ]
  },
  {
   "cell_type": "markdown",
   "metadata": {},
   "source": [
    "### 문제5 for문을 활용하여 1부터 100사이의 홀수를 출력하시오."
   ]
  },
  {
   "cell_type": "code",
   "execution_count": 9,
   "metadata": {},
   "outputs": [
    {
     "name": "stdout",
     "output_type": "stream",
     "text": [
      "1 3 5 7 9 11 13 15 17 19 21 23 25 27 29 31 33 35 37 39 41 43 45 47 49 51 53 55 57 59 61 63 65 67 69 71 73 75 77 79 81 83 85 87 89 91 93 95 97 99 "
     ]
    }
   ],
   "source": [
    "for x in range(1, 100,2):\n",
    "    print(x, end=\" \")"
   ]
  },
  {
   "cell_type": "markdown",
   "metadata": {},
   "source": [
    "for 문에서 컨테이너 객체로 range를 이용하여 1부터 100까지의 수를 스텝 2씩 하여 지정하였다. 그 뒤 for문의 실행할 내용은 2씩 증가하는 x의 출력이다. 이 때, end=\" \"를 사용하여 값들 사이에 공백을 주어 보기 편하게 작성하였다."
   ]
  },
  {
   "cell_type": "markdown",
   "metadata": {},
   "source": [
    "### 문제6 while문을 활용하여 1부터 100사이의 짝수의 합을 계산하여 출력하시오."
   ]
  },
  {
   "cell_type": "code",
   "execution_count": 16,
   "metadata": {},
   "outputs": [
    {
     "name": "stdout",
     "output_type": "stream",
     "text": [
      "2550\n"
     ]
    }
   ],
   "source": [
    "sum=0\n",
    "x=0\n",
    "while x <=100:\n",
    "    sum=sum+x\n",
    "    x=x+2\n",
    "print(sum)"
   ]
  },
  {
   "cell_type": "markdown",
   "metadata": {},
   "source": [
    "짝수의 합을 저장할 객체 sum과 1~100 사이의 짝수를 나타낼 객체 x를 선언한다. while문의 조건을 문제에서 주어진 100이하로 결정한다. while문이 실행되면서 x가 2씩 증가하게 되면서 짝수가 저장된다. 이를 sum 객체에 누적하면서 짝수의 합이 쌓이게 된다. while문이 끝나고 나면 sum을 출력해준다."
   ]
  },
  {
   "cell_type": "markdown",
   "metadata": {},
   "source": [
    "### 문제 7 사용자로 부터 임의의 정수를 입력받고, 해당 숫자를 역순으로 출력하는 프로그램을 작성하시오."
   ]
  },
  {
   "cell_type": "code",
   "execution_count": 11,
   "metadata": {},
   "outputs": [
    {
     "name": "stdout",
     "output_type": "stream",
     "text": [
      "정수를 입력하세요 : 1234\n",
      "숫자 역순은  4321  입니다.\n"
     ]
    }
   ],
   "source": [
    "num1=input(\"정수를 입력하세요 : \")\n",
    "num1=num1[::-1]\n",
    "print(\"숫자 역순은 \", num1, \" 입니다.\")"
   ]
  },
  {
   "cell_type": "markdown",
   "metadata": {},
   "source": [
    "input은 입력함수로 \"\" 안에 있는 내용을 출력하면서 입력값을 요구한다. input으로 num1에 정수를 입력하면 이를 -1로 슬라이싱하여 다시 num1에 저장한다. print를 사용하여 출력해보면 역순으로 출력이 가능하다."
   ]
  },
  {
   "cell_type": "markdown",
   "metadata": {},
   "source": [
    "### 문제8 사용자로 부터 정수를 입력받아서 1부터 그 사이에 존재하는 소수 (Prime number)를 출력하는 파이썬 프로그램을 작성하시오."
   ]
  },
  {
   "cell_type": "code",
   "execution_count": 12,
   "metadata": {},
   "outputs": [
    {
     "name": "stdout",
     "output_type": "stream",
     "text": [
      "17\n",
      "소수 > \n",
      "3 5 7 9 11 13 15 17 "
     ]
    }
   ],
   "source": [
    "n = int(input(''))\n",
    "print(\"소수 > \")\n",
    "for i in range(2, n+1):\n",
    "    for x in range(2, i):\n",
    "        if i % x == 0:\n",
    "            break\n",
    "        else :\n",
    "            print (i, end=\" \")\n",
    "            break"
   ]
  },
  {
   "cell_type": "markdown",
   "metadata": {},
   "source": [
    "소수는 1과 자기 자신을 서로소로 갖는 수이다. i를 이용한 for문으로 입력받은 n까지 소수 알고리즘을 통해 소수를 탐색한다. x를 이용한 for문이 소수 알고리즘이다. 2부터 시작해서 i 이전까지의 수들로 나누었을 때 나누어 떨어진다면 소수가 아니기 때문에 break를 통해 다음 수로 넘어가게 if문을 구성하였다. 만약 i이전의 값들로 나누어 떨어지지 않았다면 소수이기에 print로 출력한다. 여기서 i를 이용한 for문으로 넘어가야하기에 break를 넣어줘야한다."
   ]
  },
  {
   "cell_type": "markdown",
   "metadata": {},
   "source": [
    "### 문제9 별 찍기(ACM-ICPC 문제 2441번)\n",
    "### 첫째 줄에는 별 N개, 둘째 줄에는 별 N-1개, ..., N번째 줄에는 별 1개를 찍는 문제"
   ]
  },
  {
   "cell_type": "code",
   "execution_count": 13,
   "metadata": {},
   "outputs": [
    {
     "name": "stdout",
     "output_type": "stream",
     "text": [
      "5\n",
      "*****\n",
      " ****\n",
      "  ***\n",
      "   **\n",
      "    *\n"
     ]
    }
   ],
   "source": [
    "N=int(input(\"\"))\n",
    "for i1 in range(0,N):\n",
    "    print(\" \"*(i1) + \"*\"*(N-i1))"
   ]
  },
  {
   "cell_type": "markdown",
   "metadata": {},
   "source": [
    "<img src=\"img/2441.JPG\">"
   ]
  },
  {
   "cell_type": "markdown",
   "metadata": {},
   "source": [
    "int(input())으로 몇단짜리의 삼각형을 출력할 것인지 입력받는다. for문을 이용해 공백과 별을 출력한다. 공백은 0부터 시작하고 1씩 증가해나가고, 별은 N개부터 시작해서 1씩 감소한다. 줄을 나타내는 값을 i1으로 설정한다면, i1줄에서 공백의 개수는 (i1)이고, 별 의 개수는 (N-i1)이다. 그리고 print는 한줄이 끝나면 자동으로 줄바꿈이 되기 때문에 연결연산자를 이용해서 print() 한줄 안에 공백과 별을 입력한다."
   ]
  },
  {
   "cell_type": "markdown",
   "metadata": {},
   "source": [
    "### 문제10 열개씩 끊어 출력하기(ACM-ICPC 문제 11721번) \n",
    "### 알파벳 소문자와 대문자로만 이루어진 길이가 N인 단어가 주어진다. 한 줄에 10글자씩 끊어서 출력하는 프로그램을 작성하시오."
   ]
  },
  {
   "cell_type": "code",
   "execution_count": 14,
   "metadata": {},
   "outputs": [
    {
     "name": "stdout",
     "output_type": "stream",
     "text": [
      "wldmafdjkafdjkfjalkenfdlafjakefjkld\n",
      "wldmafdjka\n",
      "fdjkfjalke\n",
      "nfdlafjake\n",
      "fjkld"
     ]
    }
   ],
   "source": [
    "N=str(input())\n",
    "for i in range(0,len(N)):\n",
    "    if(i%10==0 and i!=0):\n",
    "        print(\"\")\n",
    "    print(N[i],end=\"\")"
   ]
  },
  {
   "cell_type": "markdown",
   "metadata": {},
   "source": [
    "<img src=\"img/11721.JPG\">"
   ]
  },
  {
   "cell_type": "markdown",
   "metadata": {},
   "source": [
    "입력받은 문자들을 str을 이용해 문자열로 바꾼다. for문을 이용해 10개씩 슬라이싱한다. 이때, for문의 컨테이너에는 문자열의 길이를 넣는다. 만약 i의 값이 10이 되는 순간은 문자열이 11개가 되는 순간으로 print(\"\")를 이용해 줄바꿈을 한다. 이후, 문자열을 계속 출력하면 된다."
   ]
  },
  {
   "cell_type": "markdown",
   "metadata": {},
   "source": [
    "### 문제11 설탕나르기(ACM-ICPC 문제 2839번)\n",
    "### 상근이는 요즘 설탕공장에서 설탕을 배달하고 있다. 상근이는 지금 사탕가게에 설탕을 정확하게 N킬로그램을 배달해야 한다. 설탕공장에서 만드는 설탕은 봉지에 담겨져 있다. 봉지는 3킬로그램 봉지와 5킬로그램 봉지가 있다. 상근이는 귀찮기 때문에, 최대한 적은 봉지를 들고 가려고 한다. 예를 들어, 18킬로그램 설탕을 배달해야 할 때, 3킬로그램 봉지 6개를 가져가도 되지만, 5킬로그램 3개와 3킬로그램 1개를 배달하면, 더 적은 개수의 봉지를 배달할 수 있다. 상근이가 설탕을 정확하게 N킬로그램 배달해야 할 때, 봉지 몇 개를 가져가면 되는지 그 수를 구하는 프로그램을 작성하시오."
   ]
  },
  {
   "cell_type": "code",
   "execution_count": 15,
   "metadata": {},
   "outputs": [
    {
     "name": "stdout",
     "output_type": "stream",
     "text": [
      "18\n",
      "4\n"
     ]
    }
   ],
   "source": [
    "suga = int(input())\n",
    "\n",
    "if suga % 5 == 0:\n",
    "    print(suga // 5)\n",
    "\n",
    "elif suga % 5 == 3:\n",
    "    print(suga // 5 + 1)\n",
    "\n",
    "elif suga // 5 - 1 >= 0 and suga - (5 * (suga // 5 - 1)) == 6:\n",
    "    print((suga // 5 - 1) + 2)\n",
    "\n",
    "elif suga // 5 - 1 >= 0 and suga - (5 * (suga // 5 - 1)) == 9:\n",
    "    print((suga // 5 - 1) + 3)\n",
    "\n",
    "elif suga // 5 - 2 >= 0 and suga - (5 * (suga // 5 - 2)) == 12:\n",
    "    print((suga // 5 - 2) + 4)\n",
    "\n",
    "else:\n",
    "    print(-1)"
   ]
  },
  {
   "cell_type": "markdown",
   "metadata": {},
   "source": [
    "<img src='img/2839.JPG'>"
   ]
  },
  {
   "cell_type": "markdown",
   "metadata": {},
   "source": [
    "우선 입력 받은 설탕의 무게를 입력받는다. 만약 설탕 무게가 5로만 나누어 떨어진다면, 5로 나눈 몫이 출력된다. 5로만 나누어 떨어지지않고 나머지가 3이 존재하는 경우는 몫에다가 1을 더해주면 된다. 이렇게 5로 나누었을 때 경우의 수를 조건문을 활용해 입력해주면 된다. 5와 3으로 분할이 되지 않는 경우는 -1을 출력함으로써 unknown값을 막는다."
   ]
  },
  {
   "cell_type": "markdown",
   "metadata": {},
   "source": [
    "### 소감"
   ]
  },
  {
   "cell_type": "markdown",
   "metadata": {},
   "source": [
    "문제로 해결하면서 파이썬에 대해 더 습득할 수 있었다. 이러닝으로 수업을 듣고 강의실에서 한번 더 듣는 방식이 평소 학습스타일과 잘 맞아서 다른 수업보다는 좀 더 효율성있게 공부할 수 있었다. 이러닝으로 공부하면 이해가 안 되거나 놓쳤던 부분을 다시 들을 수 있어서 좋았다. 파이썬이 직관적으로 코딩을 하도록 환경이 조성되어 있는데, 파이썬보다는 씨언어를 먼저해서 그런지 가끔은 오류가 발생할 때가 있다. 파이썬에 대해 조금씩 호환이 되어가고 있음이 느껴진다. "
   ]
  }
 ],
 "metadata": {
  "kernelspec": {
   "display_name": "Python 3",
   "language": "python",
   "name": "python3"
  },
  "language_info": {
   "codemirror_mode": {
    "name": "ipython",
    "version": 3
   },
   "file_extension": ".py",
   "mimetype": "text/x-python",
   "name": "python",
   "nbconvert_exporter": "python",
   "pygments_lexer": "ipython3",
   "version": "3.6.5"
  }
 },
 "nbformat": 4,
 "nbformat_minor": 2
}
